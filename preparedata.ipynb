{
 "cells": [
  {
   "cell_type": "markdown",
   "metadata": {},
   "source": [
    "# Load Data"
   ]
  },
  {
   "cell_type": "code",
   "execution_count": null,
   "metadata": {},
   "outputs": [],
   "source": [
    "import pandas as pd\n",
    "from sklearn import preprocessing \n",
    "hockey = pd.read_csv('hockey.csv').drop('team1', axis=1)\n",
    "\n",
    "football = pd.read_csv('football.csv').dropna().drop(['winner', 'team1'], axis=1)"
   ]
  },
  {
   "cell_type": "code",
   "execution_count": null,
   "metadata": {},
   "outputs": [],
   "source": [
    "hockey.to_csv('hockey.csv', index=False)\n",
    "football.to_csv(\"football.csv\", index=False)"
   ]
  },
  {
   "cell_type": "code",
   "execution_count": null,
   "metadata": {},
   "outputs": [],
   "source": [
    "football.score1 = football.score1.astype(int)\n",
    "football.score2 = football.score2.astype(int)"
   ]
  },
  {
   "cell_type": "code",
   "execution_count": null,
   "metadata": {},
   "outputs": [],
   "source": [
    "hockey.head(1)"
   ]
  },
  {
   "cell_type": "code",
   "execution_count": null,
   "metadata": {},
   "outputs": [],
   "source": [
    "football.head(1)"
   ]
  },
  {
   "cell_type": "markdown",
   "metadata": {},
   "source": [
    "**Генерация фичей**"
   ]
  },
  {
   "cell_type": "code",
   "execution_count": null,
   "metadata": {},
   "outputs": [],
   "source": [
    "def get_season(month):\n",
    "    if month in [12, 1, 2]:\n",
    "        return 0\n",
    "    elif month in [3, 4, 5]:\n",
    "        return 1\n",
    "    elif month in [6, 7, 8]:\n",
    "        return 2\n",
    "    else:\n",
    "        return 3\n",
    "\n",
    "def time_of_day(hour):\n",
    "    if 0 <= hour < 6:\n",
    "        return 0\n",
    "    elif 6 <= hour < 12:\n",
    "        return 1\n",
    "    elif 12 <= hour < 18:\n",
    "        return 2\n",
    "    else:\n",
    "        return 3\n",
    "\n",
    "def make_datetime_features(df):\n",
    "\n",
    "    label_encoder = preprocessing.LabelEncoder() \n",
    "    # дата фичи\n",
    "    df['date'] = pd.to_datetime(df['date'])\n",
    "    df['year'] = df['date'].dt.year\n",
    "    df['day_of_week'] = df['date'].dt.dayofweek\n",
    "    df['is_weekend'] = df['day_of_week'].isin([5, 6]).astype(int)\n",
    "\n",
    "    df['day_of_month'] = df['date'].dt.day\n",
    "    df['month'] = df['date'].dt.month\n",
    "    df['quarter'] = df['date'].dt.quarter\n",
    "    df['day_of_year'] = df['date'].dt.dayofyear\n",
    "    df['week_of_year'] = df['date'].dt.isocalendar().week\n",
    "    df['season'] = df['month'].apply(get_season)\n",
    "    df['is_month_start_end'] =( (df['date'].dt.is_month_start)| (df['date'].dt.is_month_end)).astype(int)\n",
    "    \n",
    "    #временные фичи\n",
    "    df['time'] = pd.to_datetime(df['time']).dt.time\n",
    "    df['hour'] = df['time'].apply(lambda x: x.hour)\n",
    "    df['minute'] = df['time'].apply(lambda x: x.minute) \n",
    "    df['time_of_day'] = df['hour'].apply(time_of_day)\n",
    "\n",
    "    df['is_work_time'] = df['hour'].between(9, 18, inclusive='left').astype(int)\n",
    "    df['decimal_time'] = df['hour'] + df['minute'] / 60.0\n",
    "    df['is_afternoon'] = (df['hour'] >= 12).astype(int)\n",
    "\n",
    "    df['days_until_weekend'] = (5 - df['day_of_week']) % 7\n",
    "    df['days_until_end_of_month'] = df['date'].dt.days_in_month - df['day_of_month']\n",
    "\n",
    "    df['scorediff'] = df['score1'] - df['score2']\n",
    "    df['team2']= label_encoder.fit_transform(df['team2']) \n",
    "    df = df.drop(['team1'], axis=1)\n",
    "    np.save('data/classes.npy', label_encoder.classes_)\n",
    "    return df\n",
    "\n",
    "def make_team_features(df):\n",
    "    df['avg_scorediff_by_team'] = df.groupby('team2')['scorediff'].transform('mean')\n",
    "    df['games_played_with_team'] = df.groupby('team2')['team2'].transform('count')\n",
    "    df['cumulative_scorediff_with_team'] = df.groupby('team2')['scorediff'].cumsum()\n",
    "    df['win_ratio_with_team'] = df.groupby('team2')['scorediff'].transform(lambda x: (x > 0).sum() / len(x))\n",
    "    df['avg_scorediff_by_season'] = df.groupby('season')['scorediff'].transform('mean')\n",
    "    return df\n"
   ]
  },
  {
   "cell_type": "markdown",
   "metadata": {},
   "source": [
    "ХОККЕЙ"
   ]
  },
  {
   "cell_type": "code",
   "execution_count": null,
   "metadata": {},
   "outputs": [],
   "source": [
    "hockey = make_datetime_features(hockey)\n",
    "hockey = make_team_features(hockey)\n",
    "hockey.head(1)"
   ]
  },
  {
   "cell_type": "code",
   "execution_count": null,
   "metadata": {},
   "outputs": [],
   "source": [
    "football = make_datetime_features(football)\n",
    "football = make_team_features(football)\n",
    "football.head(1)"
   ]
  },
  {
   "cell_type": "code",
   "execution_count": null,
   "metadata": {},
   "outputs": [],
   "source": [
    "hockey.to_csv(\"data/hockey.csv\", index=False)\n",
    "football.to_csv(\"data/football.csv\", index=False)"
   ]
  },
  {
   "cell_type": "markdown",
   "metadata": {},
   "source": [
    "# Обучение модели"
   ]
  },
  {
   "cell_type": "code",
   "execution_count": null,
   "metadata": {},
   "outputs": [],
   "source": [
    "from catboost import CatBoostRegressor,CatBoostClassifier\n",
    "def retrain_model(sport_name):\n",
    "    if sport_name == 'hockey':\n",
    "        df = pd.read_csv(r'data/hockey.csv')\n",
    "    else:\n",
    "        df = pd.read_csv(r'data/football.csv')\n",
    "    df = df.sample(frac=1)\n",
    "    cols =  ['team2', 'year', 'day_of_week', 'is_weekend', 'day_of_month', 'month', 'quarter', 'day_of_year', 'week_of_year', \n",
    "        'season', 'is_month_start_end', 'hour', 'minute', 'time_of_day', 'is_work_time', 'decimal_time', 'is_afternoon',\n",
    "          'days_until_weekend', 'days_until_end_of_month', 'scorediff', 'avg_scorediff_by_team', 'games_played_with_team', \n",
    "          'cumulative_scorediff_with_team', 'win_ratio_with_team', 'avg_scorediff_by_season']\n",
    "    df = df[cols]\n",
    "    X, y = df.drop('scorediff', axis=1), df['scorediff']\n",
    "    reg_model = CatBoostRegressor(eval_metric='MAE')\n",
    "    reg_model.fit(X, y, verbose=False)\n",
    "    reg_model.save_model(f'models/{sport_name}/{sport_name}_regressor')\n",
    "\n",
    "    classif_model = CatBoostClassifier(eval_metric='TotalF1')\n",
    "    classif_model.fit(X, y, verbose=False)\n",
    "    classif_model.save_model(f'models/{sport_name}/{sport_name}_classifier')\n",
    "\n",
    "    return True"
   ]
  },
  {
   "cell_type": "code",
   "execution_count": null,
   "metadata": {},
   "outputs": [],
   "source": [
    "retrain_model('hockey')\n",
    "retrain_model('football')"
   ]
  },
  {
   "cell_type": "markdown",
   "metadata": {},
   "source": [
    "# Проверить точность (допустим на футболе)"
   ]
  },
  {
   "cell_type": "markdown",
   "metadata": {},
   "source": [
    "Regression"
   ]
  },
  {
   "cell_type": "code",
   "execution_count": null,
   "metadata": {},
   "outputs": [],
   "source": [
    "from sklearn.model_selection import train_test_split\n",
    "cols = ['team2', 'year', 'day_of_week', 'is_weekend', 'day_of_month', 'month', 'quarter', 'day_of_year', 'week_of_year', \n",
    "        'season', 'is_month_start_end', 'hour', 'minute', 'time_of_day', 'is_work_time', 'decimal_time', 'is_afternoon',\n",
    "          'days_until_weekend', 'days_until_end_of_month', 'scorediff', 'avg_scorediff_by_team', 'games_played_with_team', \n",
    "          'cumulative_scorediff_with_team', 'win_ratio_with_team', 'avg_scorediff_by_season']\n",
    "football = football[cols]\n",
    "X, y = football.drop('scorediff', axis=1), football['scorediff']\n",
    "X_train, X_test, y_train, y_test = train_test_split(X, y, test_size=0.2, random_state=56)"
   ]
  },
  {
   "cell_type": "code",
   "execution_count": null,
   "metadata": {},
   "outputs": [],
   "source": [
    "from catboost import CatBoostRegressor\n",
    "\n",
    "model = CatBoostRegressor(eval_metric='MAE')\n",
    "model.fit(X_train, y_train, eval_set=(X_test, y_test))"
   ]
  },
  {
   "cell_type": "markdown",
   "metadata": {},
   "source": [
    "Classification"
   ]
  },
  {
   "cell_type": "code",
   "execution_count": null,
   "metadata": {},
   "outputs": [],
   "source": [
    "ynew = []\n",
    "for i in y:\n",
    "    if i > 0:\n",
    "        ynew.append(2)\n",
    "    elif i == 0:\n",
    "        ynew.append(1)\n",
    "    else:\n",
    "        ynew.append(0)"
   ]
  },
  {
   "cell_type": "code",
   "execution_count": null,
   "metadata": {},
   "outputs": [],
   "source": [
    "X_train, X_test, y_train, y_test = train_test_split(X, ynew, test_size=0.2, random_state=56)"
   ]
  },
  {
   "cell_type": "code",
   "execution_count": null,
   "metadata": {},
   "outputs": [],
   "source": [
    "from catboost import CatBoostClassifier\n",
    "\n",
    "model = CatBoostClassifier(eval_metric='Accuracy')\n",
    "model.fit(X_train, y_train, eval_set=(X_test, y_test))"
   ]
  },
  {
   "cell_type": "code",
   "execution_count": null,
   "metadata": {},
   "outputs": [],
   "source": [
    "from catboost import CatBoostRegressor, CatBoostClassifier\n",
    "def predict_match(sport_name, row):\n",
    "    if sport_name == 'hockey':\n",
    "        path = f'models/hockey/{sport_name}'\n",
    "    else:\n",
    "        path = f'models/football/{sport_name}'\n",
    "    regressor = CatBoostRegressor()\n",
    "    regressor.load_model(path+\"_regressor\", format='cbm')\n",
    "    classifier = CatBoostClassifier()\n",
    "    classifier.load_model(path+\"_classifier\", format='cbm')\n",
    "\n",
    "predict_match('hockey', 'display')"
   ]
  },
  {
   "cell_type": "code",
   "execution_count": null,
   "metadata": {},
   "outputs": [],
   "source": [
    "from newutils import MatchPredictor\n",
    "a = MatchPredictor()"
   ]
  },
  {
   "cell_type": "code",
   "execution_count": null,
   "metadata": {},
   "outputs": [],
   "source": [
    "a.predict_match('hockey', '27.11.2024 18:20 Бончевскиеdasda Тигры')"
   ]
  },
  {
   "cell_type": "code",
   "execution_count": null,
   "metadata": {},
   "outputs": [],
   "source": [
    "a.save_all_plots('hockey', save=True)"
   ]
  },
  {
   "cell_type": "code",
   "execution_count": null,
   "metadata": {},
   "outputs": [],
   "source": [
    "a.save_all_plots('football', save=True)"
   ]
  },
  {
   "cell_type": "code",
   "execution_count": null,
   "metadata": {},
   "outputs": [],
   "source": [
    "import pandas as pd\n",
    "\n",
    "train = pd.read_csv(f'data/hockey.csv')\n",
    "df = pd.DataFrame({'team2', 'Бончевские Тигры'})\n",
    "if len(train[train.team2 == 'Бончевские Тигры']) > 0:\n",
    "    train = train[train.team2 == 'Бончевские Тигры']\n",
    "\n",
    "    df['avg_scorediff_by_team'] = train.groupby('team2')['scorediff'].mean()\n",
    "    df['games_played_with_team'] = train.groupby('team2')['team2'].count()\n",
    "    df['cumulative_scorediff_with_team'] = train.groupby('team2')['scorediff'].cumsum().mean()\n",
    "    df['win_ratio_with_team'] = (train['scorediff'] > 0).sum() / len(train)\n",
    "    df['avg_scorediff_by_season'] = train.groupby('season')['scorediff'].mean()\n",
    "else:\n",
    "    df['avg_scorediff_by_team'] = 0\n",
    "    df['games_played_with_team'] = 0\n",
    "    df['cumulative_scorediff_with_team'] = 0\n",
    "    df['win_ratio_with_team'] = -1\n",
    "    df['avg_scorediff_by_season'] = 0"
   ]
  },
  {
   "cell_type": "code",
   "execution_count": null,
   "metadata": {},
   "outputs": [],
   "source": [
    "train.groupby('team2')['scorediff'].mean()[0]"
   ]
  },
  {
   "cell_type": "code",
   "execution_count": null,
   "metadata": {},
   "outputs": [],
   "source": []
  }
 ],
 "metadata": {
  "kernelspec": {
   "display_name": "Python 3",
   "language": "python",
   "name": "python3"
  },
  "language_info": {
   "codemirror_mode": {
    "name": "ipython",
    "version": 3
   },
   "file_extension": ".py",
   "mimetype": "text/x-python",
   "name": "python",
   "nbconvert_exporter": "python",
   "pygments_lexer": "ipython3",
   "version": "3.10.0"
  }
 },
 "nbformat": 4,
 "nbformat_minor": 2
}
